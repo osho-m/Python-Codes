{
 "cells": [
  {
   "cell_type": "code",
   "execution_count": 1,
   "id": "83bcb120",
   "metadata": {},
   "outputs": [
    {
     "name": "stdout",
     "output_type": "stream",
     "text": [
      "[20, 25, 30, 35, 40, 45, 50, 55, 60, 65, 70, 75, 80, 85, 90, 95]\n",
      "Quartile 1 :  38.75\n",
      "Quartile 2 :  57.5\n",
      "Quartile 3 :  76.25\n",
      "18.75\n"
     ]
    }
   ],
   "source": [
    "import numpy as np\n",
    "data = list(range(20, 100, 5))\n",
    "print(data)\n",
    "\n",
    "Q1 = np.quantile(data, 0.25)\n",
    "Q2 = np.quantile(data, 0.50)\n",
    "Q3 = np.quantile(data, 0.75)\n",
    "\n",
    "print(\"Quartile 1 : \", Q1)\n",
    "print(\"Quartile 2 : \", Q2)\n",
    "print(\"Quartile 3 : \", Q3)\n",
    "\n",
    "def QuartileDeviation(a, b):\n",
    "    return (a - b)/2\n",
    "print(QuartileDeviation(Q3, Q1))"
   ]
  },
  {
   "cell_type": "code",
   "execution_count": null,
   "id": "6148f24c",
   "metadata": {},
   "outputs": [],
   "source": []
  }
 ],
 "metadata": {
  "kernelspec": {
   "display_name": "Python 3 (ipykernel)",
   "language": "python",
   "name": "python3"
  },
  "language_info": {
   "codemirror_mode": {
    "name": "ipython",
    "version": 3
   },
   "file_extension": ".py",
   "mimetype": "text/x-python",
   "name": "python",
   "nbconvert_exporter": "python",
   "pygments_lexer": "ipython3",
   "version": "3.9.7"
  }
 },
 "nbformat": 4,
 "nbformat_minor": 5
}
