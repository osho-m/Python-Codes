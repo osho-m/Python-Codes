{
 "cells": [
  {
   "cell_type": "code",
   "execution_count": 1,
   "id": "15c65847",
   "metadata": {},
   "outputs": [],
   "source": [
    "class Queue():    \n",
    "    def __init__(self):\n",
    "        self.size = 0\n",
    "        self.list = []\n",
    "\n",
    "    def enqueue(self, data):\n",
    "        self.list.append(data)\n",
    "        self.size += 1\n",
    "\n",
    "    def dequeue(self):\n",
    "        try:\n",
    "            self.size -= 1\n",
    "            return self.list.pop(0)\n",
    "        except Exception as error:\n",
    "            print(f'{error} is not possible')     \n",
    "\n",
    "    def xprint(self, index):\n",
    "        print(self.list[index])"
   ]
  },
  {
   "cell_type": "code",
   "execution_count": 2,
   "id": "5ba62a06",
   "metadata": {},
   "outputs": [],
   "source": [
    "def breadth_first(graph, root):\n",
    "\n",
    "    queue = Queue()\n",
    "    visited_nodes = list()\n",
    "    queue.enqueue(root)\n",
    "    visited_nodes.append(root)\n",
    "    current_node = root\n",
    "    \n",
    "    while queue.size > 0:\n",
    "        current_node = queue.dequeue()\n",
    "        adj_nodes = graph[current_node]\n",
    "        remaining_elements = sorted(set(adj_nodes) - set(visited_nodes))\n",
    "\n",
    "        if len(remaining_elements) > 0:\n",
    "            for element in remaining_elements:\n",
    "                visited_nodes.append(element)\n",
    "                queue.enqueue(element)\n",
    "    \n",
    "    return visited_nodes"
   ]
  },
  {
   "cell_type": "code",
   "execution_count": 3,
   "id": "2e340c00",
   "metadata": {},
   "outputs": [
    {
     "name": "stdout",
     "output_type": "stream",
     "text": [
      "['A', 'B', 'D', 'G', 'E', 'F', 'C', 'H']\n"
     ]
    }
   ],
   "source": [
    "if __name__ == '__main__':\n",
    "    \n",
    "    graph = dict()\n",
    "\n",
    "    graph['A'] = ['B', 'G', 'D']\n",
    "    graph['B'] = ['A', 'F', 'E']\n",
    "    graph['C'] = ['F', 'H']\n",
    "    graph['D'] = ['F', 'A']\n",
    "    graph['E'] = ['B', 'G']\n",
    "    graph['F'] = ['B', 'D', 'C']\n",
    "    graph['G'] = ['A', 'E']\n",
    "    graph['H'] = ['C']\n",
    "\n",
    "    print(breadth_first(graph, 'A'))"
   ]
  },
  {
   "cell_type": "code",
   "execution_count": null,
   "id": "4e3e7ac9",
   "metadata": {},
   "outputs": [],
   "source": []
  }
 ],
 "metadata": {
  "kernelspec": {
   "display_name": "Python 3 (ipykernel)",
   "language": "python",
   "name": "python3"
  },
  "language_info": {
   "codemirror_mode": {
    "name": "ipython",
    "version": 3
   },
   "file_extension": ".py",
   "mimetype": "text/x-python",
   "name": "python",
   "nbconvert_exporter": "python",
   "pygments_lexer": "ipython3",
   "version": "3.9.7"
  }
 },
 "nbformat": 4,
 "nbformat_minor": 5
}
