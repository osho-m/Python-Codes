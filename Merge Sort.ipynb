{
 "cells": [
  {
   "cell_type": "code",
   "execution_count": 5,
   "id": "2019997c",
   "metadata": {},
   "outputs": [
    {
     "name": "stdout",
     "output_type": "stream",
     "text": [
      "[20, 32, 34, 43, 45, 56, 67, 89, 90]\n"
     ]
    }
   ],
   "source": [
    "def merge(listA, listB):\n",
    "    newlist = list()\n",
    "    a = 0\n",
    "    b = 0\n",
    "    while a < len(listA) and b < len(listB):\n",
    "        if listA[a] < listB[b]:\n",
    "            newlist.append(listA[a])\n",
    "            a += 1\n",
    "        else:\n",
    "            newlist.append(listB[b])\n",
    "            b += 1\n",
    "    while a < len(listA):\n",
    "        newlist.append(listA[a])\n",
    "        a += 1\n",
    "    while b < len(listB):\n",
    "        newlist.append(listB[b])\n",
    "        b += 1\n",
    "    return newlist\n",
    "\n",
    "def merge_sort(input_list):\n",
    "    if len(input_list) <= 1:\n",
    "        return input_list\n",
    "    else:\n",
    "        mid = len(input_list) // 2\n",
    "        left = merge_sort(input_list[:mid])\n",
    "        right = merge_sort(input_list[mid:])\n",
    "        newlist = merge(left, right)\n",
    "        return newlist\n",
    "\n",
    "a = [56, 89, 45, 34, 90, 32, 20, 67, 43]\n",
    "print(merge_sort(a))"
   ]
  },
  {
   "cell_type": "code",
   "execution_count": null,
   "id": "f83f78f9",
   "metadata": {},
   "outputs": [],
   "source": []
  }
 ],
 "metadata": {
  "kernelspec": {
   "display_name": "Python 3 (ipykernel)",
   "language": "python",
   "name": "python3"
  },
  "language_info": {
   "codemirror_mode": {
    "name": "ipython",
    "version": 3
   },
   "file_extension": ".py",
   "mimetype": "text/x-python",
   "name": "python",
   "nbconvert_exporter": "python",
   "pygments_lexer": "ipython3",
   "version": "3.9.7"
  }
 },
 "nbformat": 4,
 "nbformat_minor": 5
}
