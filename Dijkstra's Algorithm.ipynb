{
 "cells": [
  {
   "cell_type": "code",
   "execution_count": 1,
   "id": "e18dbc5e",
   "metadata": {},
   "outputs": [],
   "source": [
    "from heapq import *"
   ]
  },
  {
   "cell_type": "code",
   "execution_count": 2,
   "id": "fc25a052",
   "metadata": {},
   "outputs": [],
   "source": [
    "from collections import defaultdict"
   ]
  },
  {
   "cell_type": "code",
   "execution_count": 3,
   "id": "728c5cc3",
   "metadata": {},
   "outputs": [],
   "source": [
    "def dijkstra(edges, strat_node, end_node):\n",
    "    g = defaultdict(list) \n",
    "    for start, end, weight in edges: \n",
    "        g[start].append((weight, end)) \n",
    "    q, visited = [(0, strat_node,())], set()\n",
    "    while q:\n",
    "        (cost,v1,path) = heappop(q)\n",
    "        if v1 not in visited:\n",
    "            \n",
    "            visited.add(v1)\n",
    "            \n",
    "            path = (v1, path)\n",
    "            \n",
    "            if v1 == end_node:\n",
    "                \n",
    "                return (cost, path)\n",
    "            \n",
    "            for c, v2 in g.get(v1, ()):\n",
    "                \n",
    "                if v2 not in visited:\n",
    "                    \n",
    "                    heappush(q, (cost+c, v2, path))\n",
    "                    print (q)   \n",
    "    return float(\"inf\")"
   ]
  },
  {
   "cell_type": "code",
   "execution_count": 4,
   "id": "a773945b",
   "metadata": {},
   "outputs": [
    {
     "name": "stdout",
     "output_type": "stream",
     "text": [
      "=== Dijkstra ===\n",
      "A >> G:\n",
      "[(7, 'B', ('A', ()))]\n",
      "[(5, 'D', ('A', ())), (7, 'B', ('A', ()))]\n",
      "[(7, 'B', ('A', ())), (12, 'E', ('D', ('A', ())))]\n",
      "[(7, 'B', ('A', ())), (12, 'E', ('D', ('A', ()))), (11, 'F', ('D', ('A', ())))]\n",
      "[(11, 'F', ('D', ('A', ()))), (12, 'E', ('D', ('A', ()))), (15, 'C', ('B', ('A', ())))]\n",
      "[(11, 'F', ('D', ('A', ()))), (12, 'E', ('D', ('A', ()))), (15, 'C', ('B', ('A', ()))), (14, 'E', ('B', ('A', ())))]\n",
      "[(12, 'E', ('D', ('A', ()))), (14, 'E', ('B', ('A', ()))), (15, 'C', ('B', ('A', ()))), (22, 'G', ('F', ('D', ('A', ()))))]\n",
      "[(14, 'E', ('B', ('A', ()))), (21, 'G', ('E', ('D', ('A', ())))), (15, 'C', ('B', ('A', ()))), (22, 'G', ('F', ('D', ('A', ()))))]\n",
      "(21, ('G', ('E', ('D', ('A', ())))))\n"
     ]
    }
   ],
   "source": [
    "if __name__ == \"__main__\":\n",
    "    \n",
    "    edges = [\n",
    "        (\"A\", \"B\", 7),\n",
    "        (\"A\", \"D\", 5),\n",
    "        (\"B\", \"C\", 8),\n",
    "        (\"B\", \"D\", 9),\n",
    "        (\"B\", \"E\", 7),\n",
    "        (\"C\", \"E\", 5),\n",
    "        (\"D\", \"E\", 7),\n",
    "        (\"D\", \"F\", 6),\n",
    "        (\"E\", \"F\", 8),\n",
    "        (\"E\", \"G\", 9),\n",
    "        (\"F\", \"G\", 11)\n",
    "    ]\n",
    "    \n",
    "    print (\"=== Dijkstra ===\")\n",
    "    print (\"A >> G:\")\n",
    "    print (dijkstra(edges, \"A\", \"G\"))"
   ]
  },
  {
   "cell_type": "code",
   "execution_count": null,
   "id": "6aa3a801",
   "metadata": {},
   "outputs": [],
   "source": []
  }
 ],
 "metadata": {
  "kernelspec": {
   "display_name": "Python 3 (ipykernel)",
   "language": "python",
   "name": "python3"
  },
  "language_info": {
   "codemirror_mode": {
    "name": "ipython",
    "version": 3
   },
   "file_extension": ".py",
   "mimetype": "text/x-python",
   "name": "python",
   "nbconvert_exporter": "python",
   "pygments_lexer": "ipython3",
   "version": "3.9.7"
  }
 },
 "nbformat": 4,
 "nbformat_minor": 5
}
