{
 "cells": [
  {
   "cell_type": "code",
   "execution_count": 1,
   "id": "25d9cda8",
   "metadata": {},
   "outputs": [],
   "source": [
    "from PIL import Image"
   ]
  },
  {
   "cell_type": "code",
   "execution_count": 2,
   "id": "b84204b8",
   "metadata": {},
   "outputs": [],
   "source": [
    "image = Image.open('original.png')"
   ]
  },
  {
   "cell_type": "code",
   "execution_count": 3,
   "id": "f4709fa6",
   "metadata": {},
   "outputs": [],
   "source": [
    "from numpy import asarray"
   ]
  },
  {
   "cell_type": "code",
   "execution_count": 4,
   "id": "6ec68734",
   "metadata": {},
   "outputs": [],
   "source": [
    "data = asarray(image)"
   ]
  },
  {
   "cell_type": "code",
   "execution_count": 5,
   "id": "a9589dae",
   "metadata": {},
   "outputs": [
    {
     "name": "stdout",
     "output_type": "stream",
     "text": [
      "[[[106 148 189 255]\n",
      "  [106 148 189 255]\n",
      "  [106 148 189 255]\n",
      "  ...\n",
      "  [ 71 125 169 255]\n",
      "  [ 71 125 169 255]\n",
      "  [ 71 125 169 255]]\n",
      "\n",
      " [[106 148 189 255]\n",
      "  [106 148 189 255]\n",
      "  [106 148 189 255]\n",
      "  ...\n",
      "  [ 71 125 169 255]\n",
      "  [ 71 125 169 255]\n",
      "  [ 71 125 169 255]]\n",
      "\n",
      " [[106 148 189 255]\n",
      "  [106 148 189 255]\n",
      "  [106 148 189 255]\n",
      "  ...\n",
      "  [ 71 125 169 255]\n",
      "  [ 71 125 169 255]\n",
      "  [ 71 125 169 255]]\n",
      "\n",
      " ...\n",
      "\n",
      " [[102  82  76 255]\n",
      "  [105  85  78 255]\n",
      "  [105  85  78 255]\n",
      "  ...\n",
      "  [109  89  87 255]\n",
      "  [112  91  89 255]\n",
      "  [112  91  89 255]]\n",
      "\n",
      " [[104  84  77 255]\n",
      "  [102  82  76 255]\n",
      "  [102  82  76 255]\n",
      "  ...\n",
      "  [104  83  81 255]\n",
      "  [104  83  81 255]\n",
      "  [106  85  83 255]]\n",
      "\n",
      " [[106  86  79 255]\n",
      "  [104  84  77 255]\n",
      "  [104  84  77 255]\n",
      "  ...\n",
      "  [ 87  67  65 255]\n",
      "  [ 85  64  62 255]\n",
      "  [ 86  66  64 255]]]\n"
     ]
    }
   ],
   "source": [
    "print(data)"
   ]
  },
  {
   "cell_type": "markdown",
   "id": "cccb197a",
   "metadata": {},
   "source": [
    "# Converting an Image to Array using Keras:"
   ]
  },
  {
   "cell_type": "code",
   "execution_count": 6,
   "id": "fd226ea1",
   "metadata": {},
   "outputs": [
    {
     "name": "stderr",
     "output_type": "stream",
     "text": [
      "Using TensorFlow backend.\n"
     ]
    },
    {
     "name": "stdout",
     "output_type": "stream",
     "text": [
      "[[[106. 148. 189.]\n",
      "  [106. 148. 189.]\n",
      "  [106. 148. 189.]\n",
      "  ...\n",
      "  [ 71. 125. 169.]\n",
      "  [ 71. 125. 169.]\n",
      "  [ 71. 125. 169.]]\n",
      "\n",
      " [[106. 148. 189.]\n",
      "  [106. 148. 189.]\n",
      "  [106. 148. 189.]\n",
      "  ...\n",
      "  [ 71. 125. 169.]\n",
      "  [ 71. 125. 169.]\n",
      "  [ 71. 125. 169.]]\n",
      "\n",
      " [[106. 148. 189.]\n",
      "  [106. 148. 189.]\n",
      "  [106. 148. 189.]\n",
      "  ...\n",
      "  [ 71. 125. 169.]\n",
      "  [ 71. 125. 169.]\n",
      "  [ 71. 125. 169.]]\n",
      "\n",
      " ...\n",
      "\n",
      " [[102.  82.  76.]\n",
      "  [105.  85.  78.]\n",
      "  [105.  85.  78.]\n",
      "  ...\n",
      "  [109.  89.  87.]\n",
      "  [112.  91.  89.]\n",
      "  [112.  91.  89.]]\n",
      "\n",
      " [[104.  84.  77.]\n",
      "  [102.  82.  76.]\n",
      "  [102.  82.  76.]\n",
      "  ...\n",
      "  [104.  83.  81.]\n",
      "  [104.  83.  81.]\n",
      "  [106.  85.  83.]]\n",
      "\n",
      " [[106.  86.  79.]\n",
      "  [104.  84.  77.]\n",
      "  [104.  84.  77.]\n",
      "  ...\n",
      "  [ 87.  67.  65.]\n",
      "  [ 85.  64.  62.]\n",
      "  [ 86.  66.  64.]]]\n"
     ]
    }
   ],
   "source": [
    "from keras.preprocessing.image import load_img\n",
    "from keras.preprocessing.image import img_to_array\n",
    "img = load_img(\"original.png\")\n",
    "data = img_to_array(img)\n",
    "print(data)"
   ]
  },
  {
   "cell_type": "code",
   "execution_count": null,
   "id": "95e3d148",
   "metadata": {},
   "outputs": [],
   "source": []
  }
 ],
 "metadata": {
  "kernelspec": {
   "display_name": "Python 3 (ipykernel)",
   "language": "python",
   "name": "python3"
  },
  "language_info": {
   "codemirror_mode": {
    "name": "ipython",
    "version": 3
   },
   "file_extension": ".py",
   "mimetype": "text/x-python",
   "name": "python",
   "nbconvert_exporter": "python",
   "pygments_lexer": "ipython3",
   "version": "3.7.9"
  }
 },
 "nbformat": 4,
 "nbformat_minor": 5
}
